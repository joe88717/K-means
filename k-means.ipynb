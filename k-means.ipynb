{
 "cells": [
  {
   "cell_type": "code",
   "execution_count": 1,
   "id": "6a20ebd9-80fc-4592-89ef-d2a2fb6c5727",
   "metadata": {
    "executionInfo": {
     "elapsed": 272,
     "status": "ok",
     "timestamp": 1639908080140,
     "user": {
      "displayName": "葉翔宗",
      "photoUrl": "https://lh3.googleusercontent.com/a/default-user=s64",
      "userId": "03045915400643472330"
     },
     "user_tz": -480
    },
    "id": "6a20ebd9-80fc-4592-89ef-d2a2fb6c5727"
   },
   "outputs": [],
   "source": [
    "import pandas as pd\n",
    "import matplotlib.pyplot as plt\n",
    "import numpy as np\n",
    "from scipy.sparse import csr_matrix\n",
    "from mpl_toolkits.axes_grid1 import make_axes_locatable\n",
    "from sklearn.cluster import KMeans\n",
    "from sklearn.metrics import mean_squared_error\n",
    "import itertools\n",
    "from sklearn.metrics import silhouette_samples, silhouette_score"
   ]
  },
  {
   "cell_type": "code",
   "execution_count": 2,
   "id": "1ea8cda7-cfe6-4c3a-adb0-851ece509a5c",
   "metadata": {
    "executionInfo": {
     "elapsed": 2,
     "status": "ok",
     "timestamp": 1639908083121,
     "user": {
      "displayName": "葉翔宗",
      "photoUrl": "https://lh3.googleusercontent.com/a/default-user=s64",
      "userId": "03045915400643472330"
     },
     "user_tz": -480
    },
    "id": "1ea8cda7-cfe6-4c3a-adb0-851ece509a5c"
   },
   "outputs": [],
   "source": [
    "%matplotlib inline"
   ]
  },
  {
   "cell_type": "code",
   "execution_count": 3,
   "id": "05a9d7ab-edb7-49d3-94ed-0a6bcf44ab75",
   "metadata": {
    "colab": {
     "base_uri": "https://localhost:8080/",
     "height": 206
    },
    "executionInfo": {
     "elapsed": 261,
     "status": "ok",
     "timestamp": 1639908084675,
     "user": {
      "displayName": "葉翔宗",
      "photoUrl": "https://lh3.googleusercontent.com/a/default-user=s64",
      "userId": "03045915400643472330"
     },
     "user_tz": -480
    },
    "id": "05a9d7ab-edb7-49d3-94ed-0a6bcf44ab75",
    "outputId": "3ac6c93f-944d-4989-bd5a-2ad96097fcd6"
   },
   "outputs": [
    {
     "data": {
      "text/html": [
       "<div>\n",
       "<style scoped>\n",
       "    .dataframe tbody tr th:only-of-type {\n",
       "        vertical-align: middle;\n",
       "    }\n",
       "\n",
       "    .dataframe tbody tr th {\n",
       "        vertical-align: top;\n",
       "    }\n",
       "\n",
       "    .dataframe thead th {\n",
       "        text-align: right;\n",
       "    }\n",
       "</style>\n",
       "<table border=\"1\" class=\"dataframe\">\n",
       "  <thead>\n",
       "    <tr style=\"text-align: right;\">\n",
       "      <th></th>\n",
       "      <th>movieId</th>\n",
       "      <th>title</th>\n",
       "      <th>genres</th>\n",
       "    </tr>\n",
       "  </thead>\n",
       "  <tbody>\n",
       "    <tr>\n",
       "      <th>0</th>\n",
       "      <td>1</td>\n",
       "      <td>Toy Story (1995)</td>\n",
       "      <td>Adventure|Animation|Children|Comedy|Fantasy</td>\n",
       "    </tr>\n",
       "    <tr>\n",
       "      <th>1</th>\n",
       "      <td>2</td>\n",
       "      <td>Jumanji (1995)</td>\n",
       "      <td>Adventure|Children|Fantasy</td>\n",
       "    </tr>\n",
       "    <tr>\n",
       "      <th>2</th>\n",
       "      <td>3</td>\n",
       "      <td>Grumpier Old Men (1995)</td>\n",
       "      <td>Comedy|Romance</td>\n",
       "    </tr>\n",
       "    <tr>\n",
       "      <th>3</th>\n",
       "      <td>4</td>\n",
       "      <td>Waiting to Exhale (1995)</td>\n",
       "      <td>Comedy|Drama|Romance</td>\n",
       "    </tr>\n",
       "    <tr>\n",
       "      <th>4</th>\n",
       "      <td>5</td>\n",
       "      <td>Father of the Bride Part II (1995)</td>\n",
       "      <td>Comedy</td>\n",
       "    </tr>\n",
       "  </tbody>\n",
       "</table>\n",
       "</div>"
      ],
      "text/plain": [
       "   movieId                               title  \\\n",
       "0        1                    Toy Story (1995)   \n",
       "1        2                      Jumanji (1995)   \n",
       "2        3             Grumpier Old Men (1995)   \n",
       "3        4            Waiting to Exhale (1995)   \n",
       "4        5  Father of the Bride Part II (1995)   \n",
       "\n",
       "                                        genres  \n",
       "0  Adventure|Animation|Children|Comedy|Fantasy  \n",
       "1                   Adventure|Children|Fantasy  \n",
       "2                               Comedy|Romance  \n",
       "3                         Comedy|Drama|Romance  \n",
       "4                                       Comedy  "
      ]
     },
     "execution_count": 3,
     "metadata": {},
     "output_type": "execute_result"
    }
   ],
   "source": [
    "movies = pd.read_csv('movies.csv')\n",
    "movies.head()"
   ]
  },
  {
   "cell_type": "markdown",
   "id": "NKur1mjqH6lc",
   "metadata": {
    "id": "NKur1mjqH6lc"
   },
   "source": [
    "# 新增區段"
   ]
  },
  {
   "cell_type": "code",
   "execution_count": 4,
   "id": "eac85c0b-ffb2-40c4-878b-8cff0724a6ba",
   "metadata": {
    "colab": {
     "base_uri": "https://localhost:8080/",
     "height": 206
    },
    "executionInfo": {
     "elapsed": 441,
     "status": "ok",
     "timestamp": 1639908124865,
     "user": {
      "displayName": "葉翔宗",
      "photoUrl": "https://lh3.googleusercontent.com/a/default-user=s64",
      "userId": "03045915400643472330"
     },
     "user_tz": -480
    },
    "id": "eac85c0b-ffb2-40c4-878b-8cff0724a6ba",
    "outputId": "157927b1-ac70-4173-d66d-d49b426ea939",
    "scrolled": true
   },
   "outputs": [
    {
     "data": {
      "text/html": [
       "<div>\n",
       "<style scoped>\n",
       "    .dataframe tbody tr th:only-of-type {\n",
       "        vertical-align: middle;\n",
       "    }\n",
       "\n",
       "    .dataframe tbody tr th {\n",
       "        vertical-align: top;\n",
       "    }\n",
       "\n",
       "    .dataframe thead th {\n",
       "        text-align: right;\n",
       "    }\n",
       "</style>\n",
       "<table border=\"1\" class=\"dataframe\">\n",
       "  <thead>\n",
       "    <tr style=\"text-align: right;\">\n",
       "      <th></th>\n",
       "      <th>userId</th>\n",
       "      <th>movieId</th>\n",
       "      <th>rating</th>\n",
       "      <th>timestamp</th>\n",
       "    </tr>\n",
       "  </thead>\n",
       "  <tbody>\n",
       "    <tr>\n",
       "      <th>0</th>\n",
       "      <td>1</td>\n",
       "      <td>1</td>\n",
       "      <td>4.0</td>\n",
       "      <td>964982703</td>\n",
       "    </tr>\n",
       "    <tr>\n",
       "      <th>1</th>\n",
       "      <td>1</td>\n",
       "      <td>3</td>\n",
       "      <td>4.0</td>\n",
       "      <td>964981247</td>\n",
       "    </tr>\n",
       "    <tr>\n",
       "      <th>2</th>\n",
       "      <td>1</td>\n",
       "      <td>6</td>\n",
       "      <td>4.0</td>\n",
       "      <td>964982224</td>\n",
       "    </tr>\n",
       "    <tr>\n",
       "      <th>3</th>\n",
       "      <td>1</td>\n",
       "      <td>47</td>\n",
       "      <td>5.0</td>\n",
       "      <td>964983815</td>\n",
       "    </tr>\n",
       "    <tr>\n",
       "      <th>4</th>\n",
       "      <td>1</td>\n",
       "      <td>50</td>\n",
       "      <td>5.0</td>\n",
       "      <td>964982931</td>\n",
       "    </tr>\n",
       "  </tbody>\n",
       "</table>\n",
       "</div>"
      ],
      "text/plain": [
       "   userId  movieId  rating  timestamp\n",
       "0       1        1     4.0  964982703\n",
       "1       1        3     4.0  964981247\n",
       "2       1        6     4.0  964982224\n",
       "3       1       47     5.0  964983815\n",
       "4       1       50     5.0  964982931"
      ]
     },
     "execution_count": 4,
     "metadata": {},
     "output_type": "execute_result"
    }
   ],
   "source": [
    "ratings = pd.read_csv('ratings.csv')\n",
    "ratings.head()"
   ]
  },
  {
   "cell_type": "code",
   "execution_count": 5,
   "id": "e28412f7-f693-4674-bb75-d537aa0fc7c9",
   "metadata": {
    "colab": {
     "base_uri": "https://localhost:8080/",
     "height": 510
    },
    "executionInfo": {
     "elapsed": 283,
     "status": "ok",
     "timestamp": 1639908127756,
     "user": {
      "displayName": "葉翔宗",
      "photoUrl": "https://lh3.googleusercontent.com/a/default-user=s64",
      "userId": "03045915400643472330"
     },
     "user_tz": -480
    },
    "id": "e28412f7-f693-4674-bb75-d537aa0fc7c9",
    "outputId": "1897a641-384e-40a8-b8c4-ce35ad690e07"
   },
   "outputs": [
    {
     "name": "stdout",
     "output_type": "stream",
     "text": [
      "資料集大小:  (610, 951)\n"
     ]
    },
    {
     "data": {
      "text/html": [
       "<div>\n",
       "<style scoped>\n",
       "    .dataframe tbody tr th:only-of-type {\n",
       "        vertical-align: middle;\n",
       "    }\n",
       "\n",
       "    .dataframe tbody tr th {\n",
       "        vertical-align: top;\n",
       "    }\n",
       "\n",
       "    .dataframe thead th {\n",
       "        text-align: right;\n",
       "    }\n",
       "</style>\n",
       "<table border=\"1\" class=\"dataframe\">\n",
       "  <thead>\n",
       "    <tr style=\"text-align: right;\">\n",
       "      <th>genres</th>\n",
       "      <th>(no genres listed)</th>\n",
       "      <th>Action</th>\n",
       "      <th>Action|Adventure</th>\n",
       "      <th>Action|Adventure|Animation</th>\n",
       "      <th>Action|Adventure|Animation|Children</th>\n",
       "      <th>Action|Adventure|Animation|Children|Comedy</th>\n",
       "      <th>Action|Adventure|Animation|Children|Comedy|Fantasy</th>\n",
       "      <th>Action|Adventure|Animation|Children|Comedy|IMAX</th>\n",
       "      <th>Action|Adventure|Animation|Children|Comedy|Romance</th>\n",
       "      <th>Action|Adventure|Animation|Children|Comedy|Sci-Fi</th>\n",
       "      <th>Action|Adventure|Animation|Children|Comedy|Sci-Fi|IMAX</th>\n",
       "      <th>Action|Adventure|Animation|Children|Comedy|Western</th>\n",
       "      <th>Action|Adventure|Animation|Children|Fantasy</th>\n",
       "      <th>Action|Adventure|Animation|Children|Fantasy|Sci-Fi</th>\n",
       "      <th>Action|Adventure|Animation|Children|Sci-Fi</th>\n",
       "    </tr>\n",
       "    <tr>\n",
       "      <th>userId</th>\n",
       "      <th></th>\n",
       "      <th></th>\n",
       "      <th></th>\n",
       "      <th></th>\n",
       "      <th></th>\n",
       "      <th></th>\n",
       "      <th></th>\n",
       "      <th></th>\n",
       "      <th></th>\n",
       "      <th></th>\n",
       "      <th></th>\n",
       "      <th></th>\n",
       "      <th></th>\n",
       "      <th></th>\n",
       "      <th></th>\n",
       "    </tr>\n",
       "  </thead>\n",
       "  <tbody>\n",
       "    <tr>\n",
       "      <th>1</th>\n",
       "      <td>NaN</td>\n",
       "      <td>NaN</td>\n",
       "      <td>5.0</td>\n",
       "      <td>NaN</td>\n",
       "      <td>NaN</td>\n",
       "      <td>NaN</td>\n",
       "      <td>NaN</td>\n",
       "      <td>NaN</td>\n",
       "      <td>NaN</td>\n",
       "      <td>NaN</td>\n",
       "      <td>NaN</td>\n",
       "      <td>NaN</td>\n",
       "      <td>NaN</td>\n",
       "      <td>NaN</td>\n",
       "      <td>NaN</td>\n",
       "    </tr>\n",
       "    <tr>\n",
       "      <th>2</th>\n",
       "      <td>NaN</td>\n",
       "      <td>NaN</td>\n",
       "      <td>NaN</td>\n",
       "      <td>NaN</td>\n",
       "      <td>NaN</td>\n",
       "      <td>NaN</td>\n",
       "      <td>NaN</td>\n",
       "      <td>NaN</td>\n",
       "      <td>NaN</td>\n",
       "      <td>NaN</td>\n",
       "      <td>NaN</td>\n",
       "      <td>NaN</td>\n",
       "      <td>NaN</td>\n",
       "      <td>NaN</td>\n",
       "      <td>NaN</td>\n",
       "    </tr>\n",
       "    <tr>\n",
       "      <th>3</th>\n",
       "      <td>NaN</td>\n",
       "      <td>4.5</td>\n",
       "      <td>NaN</td>\n",
       "      <td>NaN</td>\n",
       "      <td>NaN</td>\n",
       "      <td>NaN</td>\n",
       "      <td>NaN</td>\n",
       "      <td>NaN</td>\n",
       "      <td>NaN</td>\n",
       "      <td>NaN</td>\n",
       "      <td>NaN</td>\n",
       "      <td>NaN</td>\n",
       "      <td>NaN</td>\n",
       "      <td>NaN</td>\n",
       "      <td>NaN</td>\n",
       "    </tr>\n",
       "    <tr>\n",
       "      <th>4</th>\n",
       "      <td>NaN</td>\n",
       "      <td>NaN</td>\n",
       "      <td>3.5</td>\n",
       "      <td>NaN</td>\n",
       "      <td>NaN</td>\n",
       "      <td>NaN</td>\n",
       "      <td>NaN</td>\n",
       "      <td>NaN</td>\n",
       "      <td>NaN</td>\n",
       "      <td>NaN</td>\n",
       "      <td>NaN</td>\n",
       "      <td>NaN</td>\n",
       "      <td>NaN</td>\n",
       "      <td>NaN</td>\n",
       "      <td>NaN</td>\n",
       "    </tr>\n",
       "    <tr>\n",
       "      <th>5</th>\n",
       "      <td>NaN</td>\n",
       "      <td>NaN</td>\n",
       "      <td>NaN</td>\n",
       "      <td>NaN</td>\n",
       "      <td>NaN</td>\n",
       "      <td>NaN</td>\n",
       "      <td>NaN</td>\n",
       "      <td>NaN</td>\n",
       "      <td>NaN</td>\n",
       "      <td>NaN</td>\n",
       "      <td>NaN</td>\n",
       "      <td>NaN</td>\n",
       "      <td>NaN</td>\n",
       "      <td>NaN</td>\n",
       "      <td>NaN</td>\n",
       "    </tr>\n",
       "    <tr>\n",
       "      <th>6</th>\n",
       "      <td>NaN</td>\n",
       "      <td>3.0</td>\n",
       "      <td>4.0</td>\n",
       "      <td>NaN</td>\n",
       "      <td>NaN</td>\n",
       "      <td>NaN</td>\n",
       "      <td>NaN</td>\n",
       "      <td>NaN</td>\n",
       "      <td>NaN</td>\n",
       "      <td>NaN</td>\n",
       "      <td>NaN</td>\n",
       "      <td>NaN</td>\n",
       "      <td>NaN</td>\n",
       "      <td>NaN</td>\n",
       "      <td>NaN</td>\n",
       "    </tr>\n",
       "    <tr>\n",
       "      <th>7</th>\n",
       "      <td>NaN</td>\n",
       "      <td>NaN</td>\n",
       "      <td>NaN</td>\n",
       "      <td>NaN</td>\n",
       "      <td>NaN</td>\n",
       "      <td>4.0</td>\n",
       "      <td>NaN</td>\n",
       "      <td>NaN</td>\n",
       "      <td>NaN</td>\n",
       "      <td>NaN</td>\n",
       "      <td>NaN</td>\n",
       "      <td>NaN</td>\n",
       "      <td>NaN</td>\n",
       "      <td>NaN</td>\n",
       "      <td>NaN</td>\n",
       "    </tr>\n",
       "    <tr>\n",
       "      <th>8</th>\n",
       "      <td>NaN</td>\n",
       "      <td>NaN</td>\n",
       "      <td>NaN</td>\n",
       "      <td>NaN</td>\n",
       "      <td>NaN</td>\n",
       "      <td>NaN</td>\n",
       "      <td>NaN</td>\n",
       "      <td>NaN</td>\n",
       "      <td>NaN</td>\n",
       "      <td>NaN</td>\n",
       "      <td>NaN</td>\n",
       "      <td>NaN</td>\n",
       "      <td>NaN</td>\n",
       "      <td>NaN</td>\n",
       "      <td>NaN</td>\n",
       "    </tr>\n",
       "    <tr>\n",
       "      <th>9</th>\n",
       "      <td>NaN</td>\n",
       "      <td>NaN</td>\n",
       "      <td>5.0</td>\n",
       "      <td>NaN</td>\n",
       "      <td>NaN</td>\n",
       "      <td>NaN</td>\n",
       "      <td>NaN</td>\n",
       "      <td>NaN</td>\n",
       "      <td>NaN</td>\n",
       "      <td>NaN</td>\n",
       "      <td>NaN</td>\n",
       "      <td>NaN</td>\n",
       "      <td>NaN</td>\n",
       "      <td>NaN</td>\n",
       "      <td>NaN</td>\n",
       "    </tr>\n",
       "    <tr>\n",
       "      <th>10</th>\n",
       "      <td>NaN</td>\n",
       "      <td>NaN</td>\n",
       "      <td>NaN</td>\n",
       "      <td>NaN</td>\n",
       "      <td>4.0</td>\n",
       "      <td>2.5</td>\n",
       "      <td>NaN</td>\n",
       "      <td>3.5</td>\n",
       "      <td>NaN</td>\n",
       "      <td>NaN</td>\n",
       "      <td>NaN</td>\n",
       "      <td>NaN</td>\n",
       "      <td>NaN</td>\n",
       "      <td>NaN</td>\n",
       "      <td>NaN</td>\n",
       "    </tr>\n",
       "  </tbody>\n",
       "</table>\n",
       "</div>"
      ],
      "text/plain": [
       "genres  (no genres listed)  Action  Action|Adventure  \\\n",
       "userId                                                 \n",
       "1                      NaN     NaN               5.0   \n",
       "2                      NaN     NaN               NaN   \n",
       "3                      NaN     4.5               NaN   \n",
       "4                      NaN     NaN               3.5   \n",
       "5                      NaN     NaN               NaN   \n",
       "6                      NaN     3.0               4.0   \n",
       "7                      NaN     NaN               NaN   \n",
       "8                      NaN     NaN               NaN   \n",
       "9                      NaN     NaN               5.0   \n",
       "10                     NaN     NaN               NaN   \n",
       "\n",
       "genres  Action|Adventure|Animation  Action|Adventure|Animation|Children  \\\n",
       "userId                                                                    \n",
       "1                              NaN                                  NaN   \n",
       "2                              NaN                                  NaN   \n",
       "3                              NaN                                  NaN   \n",
       "4                              NaN                                  NaN   \n",
       "5                              NaN                                  NaN   \n",
       "6                              NaN                                  NaN   \n",
       "7                              NaN                                  NaN   \n",
       "8                              NaN                                  NaN   \n",
       "9                              NaN                                  NaN   \n",
       "10                             NaN                                  4.0   \n",
       "\n",
       "genres  Action|Adventure|Animation|Children|Comedy  \\\n",
       "userId                                               \n",
       "1                                              NaN   \n",
       "2                                              NaN   \n",
       "3                                              NaN   \n",
       "4                                              NaN   \n",
       "5                                              NaN   \n",
       "6                                              NaN   \n",
       "7                                              4.0   \n",
       "8                                              NaN   \n",
       "9                                              NaN   \n",
       "10                                             2.5   \n",
       "\n",
       "genres  Action|Adventure|Animation|Children|Comedy|Fantasy  \\\n",
       "userId                                                       \n",
       "1                                                     NaN    \n",
       "2                                                     NaN    \n",
       "3                                                     NaN    \n",
       "4                                                     NaN    \n",
       "5                                                     NaN    \n",
       "6                                                     NaN    \n",
       "7                                                     NaN    \n",
       "8                                                     NaN    \n",
       "9                                                     NaN    \n",
       "10                                                    NaN    \n",
       "\n",
       "genres  Action|Adventure|Animation|Children|Comedy|IMAX  \\\n",
       "userId                                                    \n",
       "1                                                   NaN   \n",
       "2                                                   NaN   \n",
       "3                                                   NaN   \n",
       "4                                                   NaN   \n",
       "5                                                   NaN   \n",
       "6                                                   NaN   \n",
       "7                                                   NaN   \n",
       "8                                                   NaN   \n",
       "9                                                   NaN   \n",
       "10                                                  3.5   \n",
       "\n",
       "genres  Action|Adventure|Animation|Children|Comedy|Romance  \\\n",
       "userId                                                       \n",
       "1                                                     NaN    \n",
       "2                                                     NaN    \n",
       "3                                                     NaN    \n",
       "4                                                     NaN    \n",
       "5                                                     NaN    \n",
       "6                                                     NaN    \n",
       "7                                                     NaN    \n",
       "8                                                     NaN    \n",
       "9                                                     NaN    \n",
       "10                                                    NaN    \n",
       "\n",
       "genres  Action|Adventure|Animation|Children|Comedy|Sci-Fi  \\\n",
       "userId                                                      \n",
       "1                                                     NaN   \n",
       "2                                                     NaN   \n",
       "3                                                     NaN   \n",
       "4                                                     NaN   \n",
       "5                                                     NaN   \n",
       "6                                                     NaN   \n",
       "7                                                     NaN   \n",
       "8                                                     NaN   \n",
       "9                                                     NaN   \n",
       "10                                                    NaN   \n",
       "\n",
       "genres  Action|Adventure|Animation|Children|Comedy|Sci-Fi|IMAX  \\\n",
       "userId                                                           \n",
       "1                                                     NaN        \n",
       "2                                                     NaN        \n",
       "3                                                     NaN        \n",
       "4                                                     NaN        \n",
       "5                                                     NaN        \n",
       "6                                                     NaN        \n",
       "7                                                     NaN        \n",
       "8                                                     NaN        \n",
       "9                                                     NaN        \n",
       "10                                                    NaN        \n",
       "\n",
       "genres  Action|Adventure|Animation|Children|Comedy|Western  \\\n",
       "userId                                                       \n",
       "1                                                     NaN    \n",
       "2                                                     NaN    \n",
       "3                                                     NaN    \n",
       "4                                                     NaN    \n",
       "5                                                     NaN    \n",
       "6                                                     NaN    \n",
       "7                                                     NaN    \n",
       "8                                                     NaN    \n",
       "9                                                     NaN    \n",
       "10                                                    NaN    \n",
       "\n",
       "genres  Action|Adventure|Animation|Children|Fantasy  \\\n",
       "userId                                                \n",
       "1                                               NaN   \n",
       "2                                               NaN   \n",
       "3                                               NaN   \n",
       "4                                               NaN   \n",
       "5                                               NaN   \n",
       "6                                               NaN   \n",
       "7                                               NaN   \n",
       "8                                               NaN   \n",
       "9                                               NaN   \n",
       "10                                              NaN   \n",
       "\n",
       "genres  Action|Adventure|Animation|Children|Fantasy|Sci-Fi  \\\n",
       "userId                                                       \n",
       "1                                                     NaN    \n",
       "2                                                     NaN    \n",
       "3                                                     NaN    \n",
       "4                                                     NaN    \n",
       "5                                                     NaN    \n",
       "6                                                     NaN    \n",
       "7                                                     NaN    \n",
       "8                                                     NaN    \n",
       "9                                                     NaN    \n",
       "10                                                    NaN    \n",
       "\n",
       "genres  Action|Adventure|Animation|Children|Sci-Fi  \n",
       "userId                                              \n",
       "1                                              NaN  \n",
       "2                                              NaN  \n",
       "3                                              NaN  \n",
       "4                                              NaN  \n",
       "5                                              NaN  \n",
       "6                                              NaN  \n",
       "7                                              NaN  \n",
       "8                                              NaN  \n",
       "9                                              NaN  \n",
       "10                                             NaN  "
      ]
     },
     "execution_count": 5,
     "metadata": {},
     "output_type": "execute_result"
    }
   ],
   "source": [
    "ratings_title = pd.merge(ratings, movies[['movieId', 'genres']], on='movieId' )\n",
    "user_movie_ratings = pd.pivot_table(ratings_title, index='userId', columns= 'genres', values='rating')\n",
    "\n",
    "print('資料集大小: ', user_movie_ratings.shape)\n",
    "user_movie_ratings.iloc[0:10, 0:15]"
   ]
  },
  {
   "cell_type": "code",
   "execution_count": 6,
   "id": "f347a922-97dc-4410-9f3a-68202659808c",
   "metadata": {
    "colab": {
     "base_uri": "https://localhost:8080/",
     "height": 412
    },
    "executionInfo": {
     "elapsed": 298,
     "status": "ok",
     "timestamp": 1639908131258,
     "user": {
      "displayName": "葉翔宗",
      "photoUrl": "https://lh3.googleusercontent.com/a/default-user=s64",
      "userId": "03045915400643472330"
     },
     "user_tz": -480
    },
    "id": "f347a922-97dc-4410-9f3a-68202659808c",
    "outputId": "3241f65d-f393-4db8-f180-4e64041877c0",
    "scrolled": true
   },
   "outputs": [
    {
     "name": "stdout",
     "output_type": "stream",
     "text": [
      "資料集大小:  (610, 9724)\n"
     ]
    },
    {
     "data": {
      "text/html": [
       "<div>\n",
       "<style scoped>\n",
       "    .dataframe tbody tr th:only-of-type {\n",
       "        vertical-align: middle;\n",
       "    }\n",
       "\n",
       "    .dataframe tbody tr th {\n",
       "        vertical-align: top;\n",
       "    }\n",
       "\n",
       "    .dataframe thead th {\n",
       "        text-align: right;\n",
       "    }\n",
       "</style>\n",
       "<table border=\"1\" class=\"dataframe\">\n",
       "  <thead>\n",
       "    <tr style=\"text-align: right;\">\n",
       "      <th>movieId</th>\n",
       "      <th>1</th>\n",
       "      <th>2</th>\n",
       "      <th>3</th>\n",
       "      <th>4</th>\n",
       "      <th>5</th>\n",
       "      <th>6</th>\n",
       "      <th>7</th>\n",
       "      <th>8</th>\n",
       "      <th>9</th>\n",
       "      <th>10</th>\n",
       "      <th>11</th>\n",
       "      <th>12</th>\n",
       "      <th>13</th>\n",
       "      <th>14</th>\n",
       "      <th>15</th>\n",
       "    </tr>\n",
       "    <tr>\n",
       "      <th>userId</th>\n",
       "      <th></th>\n",
       "      <th></th>\n",
       "      <th></th>\n",
       "      <th></th>\n",
       "      <th></th>\n",
       "      <th></th>\n",
       "      <th></th>\n",
       "      <th></th>\n",
       "      <th></th>\n",
       "      <th></th>\n",
       "      <th></th>\n",
       "      <th></th>\n",
       "      <th></th>\n",
       "      <th></th>\n",
       "      <th></th>\n",
       "    </tr>\n",
       "  </thead>\n",
       "  <tbody>\n",
       "    <tr>\n",
       "      <th>1</th>\n",
       "      <td>4.0</td>\n",
       "      <td>NaN</td>\n",
       "      <td>4.0</td>\n",
       "      <td>NaN</td>\n",
       "      <td>NaN</td>\n",
       "      <td>4.0</td>\n",
       "      <td>NaN</td>\n",
       "      <td>NaN</td>\n",
       "      <td>NaN</td>\n",
       "      <td>NaN</td>\n",
       "      <td>NaN</td>\n",
       "      <td>NaN</td>\n",
       "      <td>NaN</td>\n",
       "      <td>NaN</td>\n",
       "      <td>NaN</td>\n",
       "    </tr>\n",
       "    <tr>\n",
       "      <th>2</th>\n",
       "      <td>NaN</td>\n",
       "      <td>NaN</td>\n",
       "      <td>NaN</td>\n",
       "      <td>NaN</td>\n",
       "      <td>NaN</td>\n",
       "      <td>NaN</td>\n",
       "      <td>NaN</td>\n",
       "      <td>NaN</td>\n",
       "      <td>NaN</td>\n",
       "      <td>NaN</td>\n",
       "      <td>NaN</td>\n",
       "      <td>NaN</td>\n",
       "      <td>NaN</td>\n",
       "      <td>NaN</td>\n",
       "      <td>NaN</td>\n",
       "    </tr>\n",
       "    <tr>\n",
       "      <th>3</th>\n",
       "      <td>NaN</td>\n",
       "      <td>NaN</td>\n",
       "      <td>NaN</td>\n",
       "      <td>NaN</td>\n",
       "      <td>NaN</td>\n",
       "      <td>NaN</td>\n",
       "      <td>NaN</td>\n",
       "      <td>NaN</td>\n",
       "      <td>NaN</td>\n",
       "      <td>NaN</td>\n",
       "      <td>NaN</td>\n",
       "      <td>NaN</td>\n",
       "      <td>NaN</td>\n",
       "      <td>NaN</td>\n",
       "      <td>NaN</td>\n",
       "    </tr>\n",
       "    <tr>\n",
       "      <th>4</th>\n",
       "      <td>NaN</td>\n",
       "      <td>NaN</td>\n",
       "      <td>NaN</td>\n",
       "      <td>NaN</td>\n",
       "      <td>NaN</td>\n",
       "      <td>NaN</td>\n",
       "      <td>NaN</td>\n",
       "      <td>NaN</td>\n",
       "      <td>NaN</td>\n",
       "      <td>NaN</td>\n",
       "      <td>NaN</td>\n",
       "      <td>NaN</td>\n",
       "      <td>NaN</td>\n",
       "      <td>NaN</td>\n",
       "      <td>NaN</td>\n",
       "    </tr>\n",
       "    <tr>\n",
       "      <th>5</th>\n",
       "      <td>4.0</td>\n",
       "      <td>NaN</td>\n",
       "      <td>NaN</td>\n",
       "      <td>NaN</td>\n",
       "      <td>NaN</td>\n",
       "      <td>NaN</td>\n",
       "      <td>NaN</td>\n",
       "      <td>NaN</td>\n",
       "      <td>NaN</td>\n",
       "      <td>NaN</td>\n",
       "      <td>NaN</td>\n",
       "      <td>NaN</td>\n",
       "      <td>NaN</td>\n",
       "      <td>NaN</td>\n",
       "      <td>NaN</td>\n",
       "    </tr>\n",
       "    <tr>\n",
       "      <th>6</th>\n",
       "      <td>NaN</td>\n",
       "      <td>4.0</td>\n",
       "      <td>5.0</td>\n",
       "      <td>3.0</td>\n",
       "      <td>5.0</td>\n",
       "      <td>4.0</td>\n",
       "      <td>4.0</td>\n",
       "      <td>3.0</td>\n",
       "      <td>NaN</td>\n",
       "      <td>3.0</td>\n",
       "      <td>4.0</td>\n",
       "      <td>NaN</td>\n",
       "      <td>3.0</td>\n",
       "      <td>NaN</td>\n",
       "      <td>4.0</td>\n",
       "    </tr>\n",
       "    <tr>\n",
       "      <th>7</th>\n",
       "      <td>4.5</td>\n",
       "      <td>NaN</td>\n",
       "      <td>NaN</td>\n",
       "      <td>NaN</td>\n",
       "      <td>NaN</td>\n",
       "      <td>NaN</td>\n",
       "      <td>NaN</td>\n",
       "      <td>NaN</td>\n",
       "      <td>NaN</td>\n",
       "      <td>NaN</td>\n",
       "      <td>NaN</td>\n",
       "      <td>NaN</td>\n",
       "      <td>NaN</td>\n",
       "      <td>NaN</td>\n",
       "      <td>NaN</td>\n",
       "    </tr>\n",
       "    <tr>\n",
       "      <th>8</th>\n",
       "      <td>NaN</td>\n",
       "      <td>4.0</td>\n",
       "      <td>NaN</td>\n",
       "      <td>NaN</td>\n",
       "      <td>NaN</td>\n",
       "      <td>NaN</td>\n",
       "      <td>NaN</td>\n",
       "      <td>NaN</td>\n",
       "      <td>NaN</td>\n",
       "      <td>2.0</td>\n",
       "      <td>4.0</td>\n",
       "      <td>NaN</td>\n",
       "      <td>NaN</td>\n",
       "      <td>NaN</td>\n",
       "      <td>NaN</td>\n",
       "    </tr>\n",
       "    <tr>\n",
       "      <th>9</th>\n",
       "      <td>NaN</td>\n",
       "      <td>NaN</td>\n",
       "      <td>NaN</td>\n",
       "      <td>NaN</td>\n",
       "      <td>NaN</td>\n",
       "      <td>NaN</td>\n",
       "      <td>NaN</td>\n",
       "      <td>NaN</td>\n",
       "      <td>NaN</td>\n",
       "      <td>NaN</td>\n",
       "      <td>NaN</td>\n",
       "      <td>NaN</td>\n",
       "      <td>NaN</td>\n",
       "      <td>NaN</td>\n",
       "      <td>NaN</td>\n",
       "    </tr>\n",
       "    <tr>\n",
       "      <th>10</th>\n",
       "      <td>NaN</td>\n",
       "      <td>NaN</td>\n",
       "      <td>NaN</td>\n",
       "      <td>NaN</td>\n",
       "      <td>NaN</td>\n",
       "      <td>NaN</td>\n",
       "      <td>NaN</td>\n",
       "      <td>NaN</td>\n",
       "      <td>NaN</td>\n",
       "      <td>NaN</td>\n",
       "      <td>NaN</td>\n",
       "      <td>NaN</td>\n",
       "      <td>NaN</td>\n",
       "      <td>NaN</td>\n",
       "      <td>NaN</td>\n",
       "    </tr>\n",
       "  </tbody>\n",
       "</table>\n",
       "</div>"
      ],
      "text/plain": [
       "movieId   1    2    3    4    5    6    7    8   9    10   11  12   13  14  \\\n",
       "userId                                                                       \n",
       "1        4.0  NaN  4.0  NaN  NaN  4.0  NaN  NaN NaN  NaN  NaN NaN  NaN NaN   \n",
       "2        NaN  NaN  NaN  NaN  NaN  NaN  NaN  NaN NaN  NaN  NaN NaN  NaN NaN   \n",
       "3        NaN  NaN  NaN  NaN  NaN  NaN  NaN  NaN NaN  NaN  NaN NaN  NaN NaN   \n",
       "4        NaN  NaN  NaN  NaN  NaN  NaN  NaN  NaN NaN  NaN  NaN NaN  NaN NaN   \n",
       "5        4.0  NaN  NaN  NaN  NaN  NaN  NaN  NaN NaN  NaN  NaN NaN  NaN NaN   \n",
       "6        NaN  4.0  5.0  3.0  5.0  4.0  4.0  3.0 NaN  3.0  4.0 NaN  3.0 NaN   \n",
       "7        4.5  NaN  NaN  NaN  NaN  NaN  NaN  NaN NaN  NaN  NaN NaN  NaN NaN   \n",
       "8        NaN  4.0  NaN  NaN  NaN  NaN  NaN  NaN NaN  2.0  4.0 NaN  NaN NaN   \n",
       "9        NaN  NaN  NaN  NaN  NaN  NaN  NaN  NaN NaN  NaN  NaN NaN  NaN NaN   \n",
       "10       NaN  NaN  NaN  NaN  NaN  NaN  NaN  NaN NaN  NaN  NaN NaN  NaN NaN   \n",
       "\n",
       "movieId   15  \n",
       "userId        \n",
       "1        NaN  \n",
       "2        NaN  \n",
       "3        NaN  \n",
       "4        NaN  \n",
       "5        NaN  \n",
       "6        4.0  \n",
       "7        NaN  \n",
       "8        NaN  \n",
       "9        NaN  \n",
       "10       NaN  "
      ]
     },
     "execution_count": 6,
     "metadata": {},
     "output_type": "execute_result"
    }
   ],
   "source": [
    "user_movie_ratings = pd.pivot_table(ratings, index='userId', columns= 'movieId', values='rating')\n",
    "\n",
    "print('資料集大小: ', user_movie_ratings.shape)\n",
    "user_movie_ratings.iloc[0:10, 0:15]"
   ]
  },
  {
   "cell_type": "code",
   "execution_count": 7,
   "id": "50c88ff9",
   "metadata": {
    "colab": {
     "base_uri": "https://localhost:8080/",
     "height": 424
    },
    "executionInfo": {
     "elapsed": 23465,
     "status": "ok",
     "timestamp": 1639908159816,
     "user": {
      "displayName": "葉翔宗",
      "photoUrl": "https://lh3.googleusercontent.com/a/default-user=s64",
      "userId": "03045915400643472330"
     },
     "user_tz": -480
    },
    "id": "50c88ff9",
    "outputId": "1c181008-4e25-4231-a8f9-3821974ca711",
    "scrolled": false
   },
   "outputs": [
    {
     "data": {
      "text/html": [
       "<div>\n",
       "<style scoped>\n",
       "    .dataframe tbody tr th:only-of-type {\n",
       "        vertical-align: middle;\n",
       "    }\n",
       "\n",
       "    .dataframe tbody tr th {\n",
       "        vertical-align: top;\n",
       "    }\n",
       "\n",
       "    .dataframe thead th {\n",
       "        text-align: right;\n",
       "    }\n",
       "</style>\n",
       "<table border=\"1\" class=\"dataframe\">\n",
       "  <thead>\n",
       "    <tr style=\"text-align: right;\">\n",
       "      <th></th>\n",
       "      <th>movieId</th>\n",
       "      <th>rankavg</th>\n",
       "      <th>rankcount</th>\n",
       "    </tr>\n",
       "  </thead>\n",
       "  <tbody>\n",
       "    <tr>\n",
       "      <th>0</th>\n",
       "      <td>1.0</td>\n",
       "      <td>3.92</td>\n",
       "      <td>215.0</td>\n",
       "    </tr>\n",
       "    <tr>\n",
       "      <th>1</th>\n",
       "      <td>2.0</td>\n",
       "      <td>3.43</td>\n",
       "      <td>110.0</td>\n",
       "    </tr>\n",
       "    <tr>\n",
       "      <th>2</th>\n",
       "      <td>3.0</td>\n",
       "      <td>3.26</td>\n",
       "      <td>52.0</td>\n",
       "    </tr>\n",
       "    <tr>\n",
       "      <th>3</th>\n",
       "      <td>4.0</td>\n",
       "      <td>2.36</td>\n",
       "      <td>7.0</td>\n",
       "    </tr>\n",
       "    <tr>\n",
       "      <th>4</th>\n",
       "      <td>5.0</td>\n",
       "      <td>3.07</td>\n",
       "      <td>49.0</td>\n",
       "    </tr>\n",
       "    <tr>\n",
       "      <th>...</th>\n",
       "      <td>...</td>\n",
       "      <td>...</td>\n",
       "      <td>...</td>\n",
       "    </tr>\n",
       "    <tr>\n",
       "      <th>9719</th>\n",
       "      <td>9720.0</td>\n",
       "      <td>4.00</td>\n",
       "      <td>1.0</td>\n",
       "    </tr>\n",
       "    <tr>\n",
       "      <th>9720</th>\n",
       "      <td>9721.0</td>\n",
       "      <td>3.50</td>\n",
       "      <td>1.0</td>\n",
       "    </tr>\n",
       "    <tr>\n",
       "      <th>9721</th>\n",
       "      <td>9722.0</td>\n",
       "      <td>3.50</td>\n",
       "      <td>1.0</td>\n",
       "    </tr>\n",
       "    <tr>\n",
       "      <th>9722</th>\n",
       "      <td>9723.0</td>\n",
       "      <td>3.50</td>\n",
       "      <td>1.0</td>\n",
       "    </tr>\n",
       "    <tr>\n",
       "      <th>9723</th>\n",
       "      <td>9724.0</td>\n",
       "      <td>4.00</td>\n",
       "      <td>1.0</td>\n",
       "    </tr>\n",
       "  </tbody>\n",
       "</table>\n",
       "<p>9724 rows × 3 columns</p>\n",
       "</div>"
      ],
      "text/plain": [
       "      movieId  rankavg  rankcount\n",
       "0         1.0     3.92      215.0\n",
       "1         2.0     3.43      110.0\n",
       "2         3.0     3.26       52.0\n",
       "3         4.0     2.36        7.0\n",
       "4         5.0     3.07       49.0\n",
       "...       ...      ...        ...\n",
       "9719   9720.0     4.00        1.0\n",
       "9720   9721.0     3.50        1.0\n",
       "9721   9722.0     3.50        1.0\n",
       "9722   9723.0     3.50        1.0\n",
       "9723   9724.0     4.00        1.0\n",
       "\n",
       "[9724 rows x 3 columns]"
      ]
     },
     "execution_count": 7,
     "metadata": {},
     "output_type": "execute_result"
    }
   ],
   "source": [
    "#user_movie_ratings.isnull().sum()\n",
    "\n",
    "new = pd.DataFrame()\n",
    "a=0\n",
    "for i in range(len(user_movie_ratings.columns)):\n",
    "    m=i+1\n",
    "    rc=user_movie_ratings.iloc[:,i].notnull().sum()\n",
    "    ra=round(user_movie_ratings.iloc[:,i].sum()/rc,2)\n",
    "    new= new.append({\"movieId\":m,'rankcount':rc,'rankavg':ra},ignore_index=True)\n",
    "new"
   ]
  },
  {
   "cell_type": "code",
   "execution_count": 17,
   "id": "34c74ea7",
   "metadata": {
    "colab": {
     "base_uri": "https://localhost:8080/",
     "height": 487
    },
    "executionInfo": {
     "elapsed": 435,
     "status": "ok",
     "timestamp": 1639912569068,
     "user": {
      "displayName": "葉翔宗",
      "photoUrl": "https://lh3.googleusercontent.com/a/default-user=s64",
      "userId": "03045915400643472330"
     },
     "user_tz": -480
    },
    "id": "34c74ea7",
    "outputId": "f9917445-a7ed-4a44-e84a-e3d06df135e2"
   },
   "outputs": [
    {
     "data": {
      "image/png": "[encoded data removed]",
      "text/plain": [
       "<Figure size 864x576 with 1 Axes>"
      ]
     },
     "metadata": {},
     "output_type": "display_data"
    }
   ],
   "source": [
    "plt.figure(figsize=(6,4), dpi=144)\n",
    "plt.xticks(())\n",
    "plt.yticks(())\n",
    "plt.scatter(new['rankcount'], new['rankavg'], s=5, marker='o');\n"
   ]
  },
  {
   "cell_type": "code",
   "execution_count": 9,
   "id": "MiCESIbkZfdB",
   "metadata": {
    "executionInfo": {
     "elapsed": 268,
     "status": "ok",
     "timestamp": 1639912553508,
     "user": {
      "displayName": "葉翔宗",
      "photoUrl": "https://lh3.googleusercontent.com/a/default-user=s64",
      "userId": "03045915400643472330"
     },
     "user_tz": -480
    },
    "id": "MiCESIbkZfdB"
   },
   "outputs": [],
   "source": [
    "new=new.drop(['movieId'],axis=1)"
   ]
  },
  {
   "cell_type": "code",
   "execution_count": 18,
   "id": "0X8I6l-sJOLU",
   "metadata": {
    "colab": {
     "base_uri": "https://localhost:8080/"
    },
    "executionInfo": {
     "elapsed": 261,
     "status": "ok",
     "timestamp": 1639912556561,
     "user": {
      "displayName": "葉翔宗",
      "photoUrl": "https://lh3.googleusercontent.com/a/default-user=s64",
      "userId": "03045915400643472330"
     },
     "user_tz": -480
    },
    "id": "0X8I6l-sJOLU",
    "outputId": "eab2fbbb-866c-443b-ae0d-a94a40e39744"
   },
   "outputs": [
    {
     "name": "stdout",
     "output_type": "stream",
     "text": [
      "kmean: k=4, cost=-512644\n"
     ]
    }
   ],
   "source": [
    "#採用sklearn內建kmeans函數\n",
    "from sklearn.cluster import KMeans\n",
    "#訓練資料集為4群\n",
    "#故意設k值為3\n",
    "n_clusters = 4\n",
    "kmean = KMeans(n_clusters=n_clusters)\n",
    "kmean.fit(new);\n",
    "print(\"kmean: k={}, cost={}\".format(n_clusters, int(kmean.score(new))))"
   ]
  },
  {
   "cell_type": "code",
   "execution_count": 21,
   "id": "YQx0zSLxJabm",
   "metadata": {
    "colab": {
     "base_uri": "https://localhost:8080/",
     "height": 487
    },
    "executionInfo": {
     "elapsed": 968,
     "status": "ok",
     "timestamp": 1639912845920,
     "user": {
      "displayName": "葉翔宗",
      "photoUrl": "https://lh3.googleusercontent.com/a/default-user=s64",
      "userId": "03045915400643472330"
     },
     "user_tz": -480
    },
    "id": "YQx0zSLxJabm",
    "outputId": "274e6488-6f54-4c6e-c8ac-ac8cd57c49ab"
   },
   "outputs": [
    {
     "data": {
      "image/png": "[encoded data removed]",
      "text/plain": [
       "<Figure size 864x576 with 1 Axes>"
      ]
     },
     "metadata": {},
     "output_type": "display_data"
    }
   ],
   "source": [
    "#取得分群結果\n",
    "labels = kmean.labels_\n",
    "\n",
    "#取得分群的中心點(質心)\n",
    "centers = kmean.cluster_centers_\n",
    "\n",
    "#定義繪圖顏色\n",
    "markers = ['o', '^', '*','.']\n",
    "colors = ['r', 'b', 'y','g']\n",
    "\n",
    "plt.figure(figsize=(6,4), dpi=144)\n",
    "plt.xticks(())\n",
    "plt.yticks(())\n",
    "\n",
    "#畫圖\n",
    "for c in range(n_clusters):\n",
    "  cluster = new[labels == c]\n",
    "  plt.scatter(cluster['rankcount'], cluster['rankavg'],marker=markers[c], s=20, c=colors[c])\n",
    "#畫質心\n",
    "plt.scatter(centers[:, 1], centers[:, 0],\n",
    "      marker='o', c=\"white\", alpha=0.9, s=300)\n",
    "for i, c in enumerate(centers):\n",
    "  plt.scatter(c[1], c[0], marker='$%d$' % i, s=50, c=colors[i])"
   ]
  },
  {
   "cell_type": "code",
   "execution_count": 23,
   "id": "58afd77a",
   "metadata": {},
   "outputs": [
    {
     "name": "stdout",
     "output_type": "stream",
     "text": [
      "[[  3.22416068   4.02615149]\n",
      " [  3.6979386   97.57017544]\n",
      " [  3.46636929  36.95850622]\n",
      " [  3.94418605 204.27906977]]\n"
     ]
    }
   ],
   "source": [
    "print(centers)"
   ]
  },
  {
   "cell_type": "code",
   "execution_count": 19,
   "id": "Z4sHZsf8a1db",
   "metadata": {
    "colab": {
     "base_uri": "https://localhost:8080/",
     "height": 265
    },
    "executionInfo": {
     "elapsed": 650,
     "status": "ok",
     "timestamp": 1639912793320,
     "user": {
      "displayName": "葉翔宗",
      "photoUrl": "https://lh3.googleusercontent.com/a/default-user=s64",
      "userId": "03045915400643472330"
     },
     "user_tz": -480
    },
    "id": "Z4sHZsf8a1db",
    "outputId": "1cfc1e8a-c886-4874-85ce-497bcd1dba5b",
    "scrolled": true
   },
   "outputs": [
    {
     "data": {
      "image/png": "[encoded data removed]",
      "text/plain": [
       "<Figure size 432x288 with 1 Axes>"
      ]
     },
     "metadata": {
      "needs_background": "light"
     },
     "output_type": "display_data"
    }
   ],
   "source": [
    "#畫質心\n",
    "plt.scatter(centers[:, 1], centers[:, 0],\n",
    "      marker='o', c=\"white\", alpha=0.9, s=300)\n",
    "for i, c in enumerate(centers):\n",
    "  plt.scatter(c[1], c[0], marker='$%d$' % i, s=50, c=colors[i])"
   ]
  },
  {
   "cell_type": "code",
   "execution_count": 13,
   "id": "JTThpCE0QJsa",
   "metadata": {
    "colab": {
     "base_uri": "https://localhost:8080/"
    },
    "executionInfo": {
     "elapsed": 2,
     "status": "ok",
     "timestamp": 1639912573124,
     "user": {
      "displayName": "葉翔宗",
      "photoUrl": "https://lh3.googleusercontent.com/a/default-user=s64",
      "userId": "03045915400643472330"
     },
     "user_tz": -480
    },
    "id": "JTThpCE0QJsa",
    "outputId": "cfc842cf-2cee-41e7-eec7-b0ea3bde3026"
   },
   "outputs": [
    {
     "data": {
      "text/plain": [
       "array([[  3.46227898,  35.68958743],\n",
       "       [  3.69669492,  96.53389831],\n",
       "       [  3.22268779,   3.90862703],\n",
       "       [  3.94418605, 204.27906977]])"
      ]
     },
     "execution_count": 13,
     "metadata": {},
     "output_type": "execute_result"
    }
   ],
   "source": [
    "centers"
   ]
  },
  {
   "cell_type": "code",
   "execution_count": 24,
   "id": "HuFRTInEJ2eS",
   "metadata": {
    "executionInfo": {
     "elapsed": 300,
     "status": "ok",
     "timestamp": 1639913075836,
     "user": {
      "displayName": "葉翔宗",
      "photoUrl": "https://lh3.googleusercontent.com/a/default-user=s64",
      "userId": "03045915400643472330"
     },
     "user_tz": -480
    },
    "id": "HuFRTInEJ2eS"
   },
   "outputs": [],
   "source": [
    "#分群畫圖函數\n",
    "def fit_plot_kmean_model(n_clusters, X):\n",
    "    plt.xticks(())\n",
    "    plt.yticks(())\n",
    "\n",
    "    #設定k值\n",
    "    kmean = KMeans(n_clusters=n_clusters)\n",
    "    kmean.fit_predict(new)\n",
    "\n",
    "    labels = kmean.labels_\n",
    "    centers = kmean.cluster_centers_\n",
    "    markers = ['o', '^', '*', 's']\n",
    "    colors = ['r', 'b', 'y', 'k']\n",
    "\n",
    "    #調用sklearn內建的模型分數\n",
    "    #該值越大越好\n",
    "    score = kmean.score(new)\n",
    "    plt.title(\"k={}, score={}\".format(n_clusters, (int)(score)))\n",
    "\n",
    "    #畫圖\n",
    "    for c in range(n_clusters):\n",
    "        cluster = new[labels == c]\n",
    "        plt.scatter(cluster['rankcount'], cluster['rankavg'], \n",
    "                    marker=markers[c], s=20, c=colors[c])\n",
    "    #畫質心\n",
    "    #plt.scatter(centers[:, 0], centers[:, 1],\n",
    "    #            marker='o', c=\"white\", alpha=0.9, s=300)\n",
    "    #for i, c in enumerate(centers):\n",
    "    #    plt.scatter(c[0], c[1], marker='$%d$' % i, s=50, c=colors[i])"
   ]
  },
  {
   "cell_type": "code",
   "execution_count": 28,
   "id": "YerKV4MQKBtF",
   "metadata": {
    "colab": {
     "base_uri": "https://localhost:8080/",
     "height": 409
    },
    "executionInfo": {
     "elapsed": 1912,
     "status": "ok",
     "timestamp": 1639913079588,
     "user": {
      "displayName": "葉翔宗",
      "photoUrl": "https://lh3.googleusercontent.com/a/default-user=s64",
      "userId": "03045915400643472330"
     },
     "user_tz": -480
    },
    "id": "YerKV4MQKBtF",
    "outputId": "6d0ae4e3-28c4-4b49-b9e7-94d15e5e1296"
   },
   "outputs": [
    {
     "data": {
      "image/png": "[encoded data removed]",
      "text/plain": [
       "<Figure size 1440x432 with 3 Axes>"
      ]
     },
     "metadata": {},
     "output_type": "display_data"
    }
   ],
   "source": [
    "from sklearn.cluster import KMeans\n",
    "\n",
    "#特別定義K值\n",
    "n_clusters = [2, 3, 4]\n",
    "\n",
    "plt.figure(figsize=(10, 3), dpi=144)\n",
    "for i, c in enumerate(n_clusters):\n",
    "    plt.subplot(1, 3, i + 1)\n",
    "    fit_plot_kmean_model(c, new)\n",
    "    \n",
    "#果然k值為4模型分數最高"
   ]
  },
  {
   "cell_type": "code",
   "execution_count": 26,
   "id": "bD1nEJ5NKPap",
   "metadata": {
    "colab": {
     "base_uri": "https://localhost:8080/",
     "height": 282
    },
    "executionInfo": {
     "elapsed": 16186,
     "status": "ok",
     "timestamp": 1639912689447,
     "user": {
      "displayName": "葉翔宗",
      "photoUrl": "https://lh3.googleusercontent.com/a/default-user=s64",
      "userId": "03045915400643472330"
     },
     "user_tz": -480
    },
    "id": "bD1nEJ5NKPap",
    "outputId": "81fb8124-c008-4d84-a380-e0a83d8670c7"
   },
   "outputs": [
    {
     "data": {
      "text/plain": [
       "[<matplotlib.lines.Line2D at 0x257006f7220>]"
      ]
     },
     "execution_count": 26,
     "metadata": {},
     "output_type": "execute_result"
    },
    {
     "data": {
      "image/png": "[encoded data removed]",
      "text/plain": [
       "<Figure size 432x288 with 1 Axes>"
      ]
     },
     "metadata": {
      "needs_background": "light"
     },
     "output_type": "display_data"
    }
   ],
   "source": [
    "#透過輪廓係數\n",
    "from sklearn.metrics import silhouette_score\n",
    "\n",
    "silhouette_avg = []\n",
    "for i in range(2,10):\n",
    "    kmeans_fit = KMeans(n_clusters = i).fit(new)\n",
    "    silhouette_avg.append(silhouette_score(new, kmeans_fit.labels_))\n",
    "    \n",
    "plt.plot(range(2,10), silhouette_avg)"
   ]
  },
  {
   "cell_type": "code",
   "execution_count": null,
   "id": "f8b30430",
   "metadata": {},
   "outputs": [],
   "source": []
  }
 ],
 "metadata": {
  "colab": {
   "name": "A.ipynb",
   "provenance": [],
   "toc_visible": true
  },
  "kernelspec": {
   "display_name": "Python 3",
   "language": "python",
   "name": "python3"
  },
  "language_info": {
   "codemirror_mode": {
    "name": "ipython",
    "version": 3
   },
   "file_extension": ".py",
   "mimetype": "text/x-python",
   "name": "python",
   "nbconvert_exporter": "python",
   "pygments_lexer": "ipython3",
   "version": "3.8.8"
  }
 },
 "nbformat": 4,
 "nbformat_minor": 5
}
